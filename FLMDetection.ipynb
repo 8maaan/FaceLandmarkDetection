{
 "cells": [
  {
   "cell_type": "code",
   "execution_count": 11,
   "metadata": {},
   "outputs": [],
   "source": [
    "import cv2\n",
    "import dlib\n",
    "import numpy as np"
   ]
  },
  {
   "cell_type": "code",
   "execution_count": 12,
   "metadata": {},
   "outputs": [],
   "source": [
    "# Load the PNG image of the clown nose\n",
    "clown_nose = cv2.imread(\"clown_nose.png\", cv2.IMREAD_UNCHANGED)\n",
    "blush = cv2.imread(\"blush.png\", cv2.IMREAD_UNCHANGED)\n",
    "\n",
    "# Initialize video capture and face detector\n",
    "cap = cv2.VideoCapture(0)\n",
    "detector = dlib.get_frontal_face_detector()\n",
    "predictor = dlib.shape_predictor(\"shape_predictor_68_face_landmarks.dat\")"
   ]
  },
  {
   "cell_type": "code",
   "execution_count": 13,
   "metadata": {},
   "outputs": [],
   "source": [
    "# Variables to toggle features\n",
    "show_landmarks = False\n",
    "show_clown_nose = False\n",
    "show_blush = False"
   ]
  },
  {
   "cell_type": "code",
   "execution_count": 14,
   "metadata": {},
   "outputs": [],
   "source": [
    "def draw_landmarks(frame, landmarks):\n",
    "    # Draw circles at each facial landmark point\n",
    "    for n in range(0, 68):\n",
    "        x = landmarks.part(n).x\n",
    "        y = landmarks.part(n).y\n",
    "        cv2.circle(frame, (x, y), 3, (255, 0, 0), -1)"
   ]
  },
  {
   "cell_type": "code",
   "execution_count": 15,
   "metadata": {},
   "outputs": [],
   "source": [
    "def apply_clown_nose(frame, landmarks):\n",
    "    # Extract the coordinates of the nose tip (landmark 33)\n",
    "    nose_tip = (landmarks.part(33).x, landmarks.part(33).y)\n",
    "    \n",
    "    # Resize the clown nose to fit the size of the nose\n",
    "    width = int(landmarks.part(16).x - landmarks.part(0).x) // 3\n",
    "    height = int(clown_nose.shape[0] * (width / clown_nose.shape[1]))\n",
    "    resized_nose = cv2.resize(clown_nose, (width, height))\n",
    "    \n",
    "    # Calculate the position to place the clown nose\n",
    "    x_offset = nose_tip[0] - width // 2\n",
    "    y_offset = nose_tip[1] - height // 2 - 10  # Adjust height up\n",
    "    \n",
    "    # Create a region of interest (ROI) in the frame\n",
    "    roi = frame[y_offset:y_offset + height, x_offset:x_offset + width]\n",
    "    \n",
    "    # Add the clown nose image to the ROI using alpha blending\n",
    "    alpha_s = resized_nose[:, :, 3] / 255.0\n",
    "    alpha_l = 1.0 - alpha_s\n",
    "    \n",
    "    for c in range(0, 3):\n",
    "        roi[:, :, c] = (alpha_s * resized_nose[:, :, c] + alpha_l * roi[:, :, c])\n",
    "    \n",
    "    # Place the modified ROI back into the frame\n",
    "    frame[y_offset:y_offset + height, x_offset:x_offset + width] = roi"
   ]
  },
  {
   "cell_type": "code",
   "execution_count": 16,
   "metadata": {},
   "outputs": [],
   "source": [
    "def apply_blush(frame, landmarks):\n",
    "    # Calculate the size and position for the blush overlay\n",
    "    width = int((landmarks.part(16).x - landmarks.part(0).x) / 3)\n",
    "    height = int(blush.shape[0] * (width / blush.shape[1]))\n",
    "    resized_blush = cv2.resize(blush, (width, height))\n",
    "    \n",
    "    # Calculate the positions for the blush on both cheeks\n",
    "    left_cheek = (landmarks.part(3).x - width // 2, landmarks.part(3).y - height // 1)\n",
    "    right_cheek = (landmarks.part(13).x - width // 2, landmarks.part(13).y - height // 1)\n",
    "    \n",
    "    # Function to apply the blush on a cheek\n",
    "    def overlay_blush(cheek_position):\n",
    "        x, y = cheek_position\n",
    "        # Create a region of interest (ROI)\n",
    "        roi = frame[y:y + height, x:x + width]\n",
    "        \n",
    "        # Add the blush image to the ROI using alpha blending\n",
    "        alpha_s = resized_blush[:, :, 3] / 255.0\n",
    "        alpha_l = 1.0 - alpha_s\n",
    "        \n",
    "        for c in range(0, 3):\n",
    "            roi[:, :, c] = (alpha_s * resized_blush[:, :, c] + alpha_l * roi[:, :, c])\n",
    "        \n",
    "        # Place the modified ROI back into the frame\n",
    "        frame[y:y + height, x:x + width] = roi\n",
    "    \n",
    "    # Apply the blush to both cheeks\n",
    "    overlay_blush(left_cheek)\n",
    "    overlay_blush(right_cheek)"
   ]
  },
  {
   "cell_type": "code",
   "execution_count": 17,
   "metadata": {},
   "outputs": [],
   "source": [
    "while True:\n",
    "    _, frame = cap.read()\n",
    "    gray = cv2.cvtColor(frame, cv2.COLOR_BGR2GRAY)\n",
    "    \n",
    "    # Detect faces\n",
    "    faces = detector(gray)\n",
    "    for face in faces:\n",
    "        # Get facial landmarks\n",
    "        landmarks = predictor(gray, face)\n",
    "        \n",
    "        # Toggle features based on flags\n",
    "        if show_landmarks:\n",
    "            draw_landmarks(frame, landmarks)\n",
    "        \n",
    "        if show_clown_nose:\n",
    "            apply_clown_nose(frame, landmarks)\n",
    "            \n",
    "        if show_blush:\n",
    "            apply_blush(frame, landmarks)\n",
    "    \n",
    "    # Display the frame\n",
    "    cv2.imshow(\"Frame\", frame)\n",
    "    key = cv2.waitKey(1)\n",
    "    \n",
    "    # Handle keyboard input to toggle features and exit\n",
    "    if key == ord('l'):  # Press 'l' to toggle landmarks\n",
    "        show_landmarks = not show_landmarks\n",
    "    elif key == ord('c'):  # Press 'c' to toggle clown nose\n",
    "        show_clown_nose = not show_clown_nose\n",
    "    elif key == ord('b'):  # Press 'b' to toggle blush filter\n",
    "        show_blush = not show_blush\n",
    "    elif key == 27:  # Press 'Esc' to exit\n",
    "        break\n",
    "\n",
    "# Release the camera and close windows\n",
    "cap.release()\n",
    "cv2.destroyAllWindows()\n"
   ]
  }
 ],
 "metadata": {
  "kernelspec": {
   "display_name": "Python 3",
   "language": "python",
   "name": "python3"
  },
  "language_info": {
   "codemirror_mode": {
    "name": "ipython",
    "version": 3
   },
   "file_extension": ".py",
   "mimetype": "text/x-python",
   "name": "python",
   "nbconvert_exporter": "python",
   "pygments_lexer": "ipython3",
   "version": "3.11.0"
  }
 },
 "nbformat": 4,
 "nbformat_minor": 2
}
